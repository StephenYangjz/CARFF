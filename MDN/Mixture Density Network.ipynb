{
 "cells": [
  {
   "cell_type": "markdown",
   "id": "8ee1d881",
   "metadata": {},
   "source": [
    "# CARFF Mixture Density Network"
   ]
  },
  {
   "cell_type": "code",
   "execution_count": 32,
   "id": "5ebd1425",
   "metadata": {},
   "outputs": [],
   "source": [
    "import torch\n",
    "from torch.utils.data import Dataset\n",
    "from torch.utils.data import DataLoader\n",
    "import torch.nn as nn\n",
    "import torch.nn.functional as F\n",
    "import json\n",
    "import numpy as np\n",
    "import seaborn as sns\n",
    "import matplotlib.pyplot as plt\n",
    "from scipy.stats import norm\n",
    "import json\n",
    "import tqdm\n",
    "from sklearn.manifold import TSNE\n",
    "import os"
   ]
  },
  {
   "cell_type": "code",
   "execution_count": 33,
   "id": "88f773fb",
   "metadata": {},
   "outputs": [],
   "source": [
    "latent_dim = 8\n",
    "hidden_dim = 512\n",
    "batch_size = 128\n",
    "num_epochs = 500\n",
    "lr = 0.01\n",
    "device = torch.device(\"cuda:0\" if torch.cuda.is_available() else \"cpu\")\n",
    "town = 3\n",
    "K = 2"
   ]
  },
  {
   "cell_type": "code",
   "execution_count": 34,
   "id": "f8e66beb",
   "metadata": {},
   "outputs": [],
   "source": [
    "def reparameterize(mu: torch.Tensor, logvar: torch.Tensor) -> torch.Tensor:\n",
    "    std = torch.exp(0.5 * logvar)\n",
    "    eps = torch.randn_like(std)\n",
    "    return eps * std + mu"
   ]
  },
  {
   "cell_type": "code",
   "execution_count": 35,
   "id": "f0fff51d",
   "metadata": {},
   "outputs": [],
   "source": [
    "path = \"path/to/transforms_train.json\"\n",
    "\n",
    "f = open(path, \"r\")\n",
    "data = json.load(f)"
   ]
  },
  {
   "cell_type": "code",
   "execution_count": 37,
   "id": "93a349ed",
   "metadata": {},
   "outputs": [],
   "source": [
    "latents = {}\n",
    "mus = {}\n",
    "log_vars = {}\n",
    "for frame in data[\"frames\"]:\n",
    "    # latents\n",
    "    if frame[\"scene_id\"] in latents.keys():\n",
    "        latents[frame[\"scene_id\"]].append(frame[\"latents\"])\n",
    "    else:\n",
    "        latents[frame[\"scene_id\"]] = [frame[\"latents\"]]\n",
    "    # mu\n",
    "    if frame[\"scene_id\"] in mus.keys():\n",
    "        mus[frame[\"scene_id\"]].append(frame[\"mu\"])\n",
    "    else:\n",
    "        mus[frame[\"scene_id\"]] = [frame[\"mu\"]]\n",
    "    # var\n",
    "    if frame[\"scene_id\"] in log_vars.keys():\n",
    "        log_vars[frame[\"scene_id\"]].append(frame[\"var\"])\n",
    "    else:\n",
    "        log_vars[frame[\"scene_id\"]] = [frame[\"var\"]]"
   ]
  },
  {
   "cell_type": "markdown",
   "id": "68b8334b",
   "metadata": {},
   "source": [
    "## Mixed Gaussian Predictions"
   ]
  },
  {
   "cell_type": "code",
   "execution_count": 40,
   "id": "01374c8d",
   "metadata": {},
   "outputs": [],
   "source": [
    "class TensorDataset(Dataset):\n",
    "    def __init__(self, all_mus, all_vars, all_latents):\n",
    "        assert len(all_mus) == len(all_vars)\n",
    "        self.all_mus = self.lists_to_tensors(all_mus)\n",
    "        self.all_vars = self.lists_to_tensors(all_vars)\n",
    "        self.all_latents = self.lists_to_tensors(all_latents)\n",
    "        self.num_scenes = len(all_mus)\n",
    "        self.num_scenes_temp = self.num_scenes + 1\n",
    "    \n",
    "    def lists_to_tensors(self, dictionary):\n",
    "        for key, value in dictionary.items():\n",
    "            dictionary[key] = torch.tensor(value).to(device)\n",
    "        return dictionary\n",
    "\n",
    "    def __len__(self):\n",
    "        return len(self.all_mus[0])\n",
    "\n",
    "    def __getitem__(self, idx):\n",
    "        factor = torch.randint(0,2, (1,)).item()\n",
    "        scene = torch.randint(0, self.num_scenes_temp // 2 - 1, (1,)).item()\n",
    "\n",
    "        start_scene = factor*(self.num_scenes_temp // 2) + (scene)  \n",
    "        one_hot_encode = F.one_hot(torch.tensor([scene]), self.num_scenes_temp -1).to(device)\n",
    "\n",
    "        end_scene = start_scene + 1\n",
    "\n",
    "    \n",
    "        start_mu = self.all_mus[start_scene][idx]\n",
    "        start_latents = self.all_latents[start_scene][idx]\n",
    "        start_var = self.all_vars[start_scene][idx]\n",
    "        \n",
    "        idx = idx + torch.randint(-4, 4, (1,))[0]\n",
    "        if idx >= self.num_scenes:\n",
    "            idx = self.num_scenes - 1\n",
    "        end_mu = self.all_mus[end_scene][idx]\n",
    "        end_var = self.all_vars[end_scene][idx] # TODO one hot encode scene id to condition MLP\n",
    "        end_latents = self.all_latents[end_scene][idx] # TODO one hot encode scene id to condition MLP\n",
    "\n",
    "        gaussian_noise1 = torch.randn(start_mu.shape).cuda() * 0.005\n",
    "        gaussian_noise2 = torch.randn(start_var.shape).cuda() * 0.005\n",
    "\n",
    "        return torch.cat([start_mu + gaussian_noise1, start_var + gaussian_noise2]), torch.cat([end_mu, end_var])"
   ]
  },
  {
   "cell_type": "code",
   "execution_count": 41,
   "id": "256369c3",
   "metadata": {},
   "outputs": [],
   "source": [
    "\n",
    "\n",
    "class MDN(nn.Module):\n",
    "   \n",
    "    def __init__(self, dim_in, dim_out, n_components, hidden_dim,):\n",
    "        super().__init__()\n",
    "        num_sigma_channels =  dim_out * n_components\n",
    "        self.dim_in, self.dim_out, self.n_components = dim_in, dim_out, n_components\n",
    "        \n",
    "        self.base = nn.Sequential(\n",
    "            nn.Linear(dim_in, hidden_dim),\n",
    "            nn.ReLU(),\n",
    "            nn.Linear(hidden_dim, hidden_dim),\n",
    "            nn.ReLU(),\n",
    "            nn.Linear(hidden_dim, hidden_dim),\n",
    "        )\n",
    "        self.mu_head = nn.Sequential(\n",
    "            nn.Linear(hidden_dim, hidden_dim),\n",
    "            nn.ReLU(),\n",
    "            nn.Linear(hidden_dim, dim_out * n_components)\n",
    "            )\n",
    "        \n",
    "        self.sigma_head = nn.Sequential(\n",
    "            nn.Linear(hidden_dim, hidden_dim),\n",
    "            nn.ReLU(),\n",
    "            nn.Linear(hidden_dim, num_sigma_channels)\n",
    "            )\n",
    "\n",
    "        self.pi_head = nn.Sequential(\n",
    "            nn.Linear(dim_in, hidden_dim),\n",
    "            nn.ReLU(),\n",
    "            nn.Linear(hidden_dim, hidden_dim),\n",
    "            nn.ReLU(),\n",
    "            nn.Linear(hidden_dim, n_components),\n",
    "        )\n",
    "    def forward(self, x, eps=1e-6):\n",
    "        shared_output = F.relu(self.base(x))\n",
    "        pis = self.pi_head(x)\n",
    "        log_pi = torch.log_softmax(pis, dim=-1)\n",
    "        mu = self.mu_head(shared_output)\n",
    "        sigma = self.sigma_head(shared_output)\n",
    "\n",
    "        sigma = torch.exp(sigma + eps)\n",
    "        mu = mu.reshape(-1, self.n_components, self.dim_out)\n",
    "        sigma = sigma.reshape(-1, self.n_components, self.dim_out)\n",
    "        return log_pi, mu, sigma\n",
    "\n",
    "    def loss_mod(self, mu, sigma, log_pi, y):\n",
    "        z_score = (y - mu) / sigma\n",
    "        \n",
    "        if len(y.shape) == 3:\n",
    "            normal_loglik = (\n",
    "                -0.5 * torch.einsum(\"bij,bij->bi\", z_score, z_score)\n",
    "                -torch.sum(torch.log(sigma), dim=-1)\n",
    "            )\n",
    "        else:\n",
    "            normal_loglik = (\n",
    "                -0.5 * torch.einsum(\"bijc,bijc->bij\", z_score, z_score)\n",
    "                - torch.sum(torch.log(sigma), dim=-1)\n",
    "            )\n",
    "\n",
    "\n",
    "        loglik = torch.logsumexp(log_pi + normal_loglik, dim=-1)\n",
    "        return -loglik.sum()\n",
    "\n",
    "    \n",
    "    def sample(self, x):\n",
    "        log_pi, mu, sigma = self.forward(x)\n",
    "        weights = torch.exp(log_pi)\n",
    "        cum_pi = torch.cumsum(weights, dim=-1)\n",
    "        rvs = torch.rand(len(x), 1).to(x)\n",
    "        rand_pi = torch.searchsorted(cum_pi, rvs)\n",
    "        rand_normal = torch.randn_like(mu) * sigma + mu\n",
    "        samples = torch.take_along_dim(rand_normal, indices=rand_pi.unsqueeze(-1), dim=1).squeeze(dim=1)\n",
    "        return samples, weights, mu, sigma\n",
    "\n",
    "    def save(self, path):\n",
    "\n",
    "        checkpoint = {\n",
    "            \"model_state_dict\": self.state_dict(),\n",
    "        }\n",
    "        \n",
    "        torch.save(checkpoint, os.path.join(path, \"checkpoint.pth\"))\n",
    "\n",
    "    def load(self, path):\n",
    "\n",
    "        checkpoint = torch.load(os.path.join(path, \"checkpoint.pth\"))\n",
    "        self.load_state_dict(checkpoint[\"model_state_dict\"])\n",
    "                \n",
    "        return checkpoint"
   ]
  },
  {
   "cell_type": "code",
   "execution_count": 42,
   "id": "00a6d613",
   "metadata": {},
   "outputs": [],
   "source": [
    "import torch.optim.lr_scheduler as lr_scheduler\n",
    "num_epochs = 30000\n",
    "lr = 0.005\n"
   ]
  },
  {
   "cell_type": "code",
   "execution_count": 43,
   "id": "8759f923",
   "metadata": {},
   "outputs": [],
   "source": [
    "from torch.quasirandom import SobolEngine\n",
    "\n",
    "num_samples = 1000\n",
    "sobol_engine = SobolEngine(dimension=latent_dim, scramble=True)"
   ]
  },
  {
   "cell_type": "code",
   "execution_count": 44,
   "id": "395ca255",
   "metadata": {},
   "outputs": [
    {
     "name": "stderr",
     "output_type": "stream",
     "text": [
      "Loss: -440438.5312: 100%|█████████████████| 30000/30000 [28:24<00:00, 17.60it/s]\n"
     ]
    }
   ],
   "source": [
    "model = MDN(2*latent_dim,latent_dim, K, hidden_dim).to(device)\n",
    "\n",
    "dataset = TensorDataset(mus, log_vars, latents)\n",
    "dataloader = DataLoader(dataset, batch_size=batch_size, shuffle=True)\n",
    "\n",
    "progress_bar = tqdm.tqdm(range(num_epochs), desc=\"Loss: ---\", position=0)\n",
    "\n",
    "optimizer = torch.optim.Adam(model.parameters(), lr=lr)\n",
    "scheduler = lr_scheduler.LinearLR(optimizer, start_factor=1.0, end_factor=0.5, total_iters=10000)\n",
    "\n",
    "losses = []\n",
    "\n",
    "for epoch in progress_bar:\n",
    "    for batch_X, batch_y in dataloader:\n",
    "        optimizer.zero_grad()\n",
    "        weights, mu_preds, var_preds = model(batch_X)\n",
    "\n",
    "        samples_sobol = sobol_engine.draw(num_samples).to(torch.float).to(device)\n",
    "        samples_sobol = samples_sobol[None,:,None,:].repeat(batch_y.shape[0], 1, K,1)\n",
    "        \n",
    "        batch_y = batch_y[:,None,None,:].repeat(1,num_samples,K,1)\n",
    "        latent_vectors = samples_sobol * torch.exp(batch_y[...,latent_dim:]) + batch_y[...,:latent_dim]\n",
    "        loss = model.loss_mod(mu_preds[:,None,...].repeat(1,num_samples,1,1),var_preds[:,None,...].repeat(1,num_samples,1,1),weights[:,None].repeat(1,num_samples,1),latent_vectors)\n",
    "        \n",
    "        optimizer.zero_grad()\n",
    "        loss.backward()\n",
    "        optimizer.step()\n",
    "\n",
    "    scheduler.step()\n",
    "    losses.append(loss.item())\n",
    "    progress_bar.set_description(f\"Loss: {loss.item():.4f}\")"
   ]
  },
  {
   "cell_type": "code",
   "execution_count": 45,
   "id": "1a97c243",
   "metadata": {},
   "outputs": [
    {
     "data": {
      "text/plain": [
       "[<matplotlib.lines.Line2D at 0x7fe04387d540>]"
      ]
     },
     "execution_count": 45,
     "metadata": {},
     "output_type": "execute_result"
    },
    {
     "data": {
      "image/png": "[encoded data removed]",
      "text/plain": [
       "<Figure size 640x480 with 1 Axes>"
      ]
     },
     "metadata": {},
     "output_type": "display_data"
    }
   ],
   "source": [
    "plt.plot(range(len(losses[50:])), losses[50:])"
   ]
  },
  {
   "cell_type": "code",
   "execution_count": 46,
   "id": "79c748e9",
   "metadata": {},
   "outputs": [],
   "source": [
    "model.save(os.path.dirname(path))"
   ]
  },
  {
   "cell_type": "code",
   "execution_count": null,
   "id": "a40f3898",
   "metadata": {},
   "outputs": [],
   "source": []
  }
 ],
 "metadata": {
  "kernelspec": {
   "display_name": "Python 3 (ipykernel)",
   "language": "python",
   "name": "python3"
  },
  "language_info": {
   "codemirror_mode": {
    "name": "ipython",
    "version": 3
   },
   "file_extension": ".py",
   "mimetype": "text/x-python",
   "name": "python",
   "nbconvert_exporter": "python",
   "pygments_lexer": "ipython3",
   "version": "3.10.10"
  }
 },
 "nbformat": 4,
 "nbformat_minor": 5
}
